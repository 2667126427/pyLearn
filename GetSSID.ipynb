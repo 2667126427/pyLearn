{
 "cells": [
  {
   "cell_type": "code",
   "execution_count": 11,
   "metadata": {
    "collapsed": false
   },
   "outputs": [
    {
     "name": "stdout",
     "output_type": "stream",
     "text": [
      "wlp1s0mon:\n",
      "\n"
     ]
    }
   ],
   "source": [
    "import os\n",
    "ifa = os.popen('ifconfig | grep wlp1s0mon | cut -d \" \" -f 1')\n",
    "ifb = ifa.read()\n",
    "print (ifb)\n",
    "if ifb == \"wlp1s0mon\":\n",
    "    print(\"open success\")\n",
    "wlan.fc.type == 0"
   ]
  }
 ],
 "metadata": {
  "kernelspec": {
   "display_name": "Python 3",
   "language": "python",
   "name": "python3"
  },
  "language_info": {
   "codemirror_mode": {
    "name": "ipython",
    "version": 2
   },
   "file_extension": ".py",
   "mimetype": "text/x-python",
   "name": "python",
   "nbconvert_exporter": "python",
   "pygments_lexer": "ipython2",
   "version": "2.7.13"
  }
 },
 "nbformat": 4,
 "nbformat_minor": 2
}
