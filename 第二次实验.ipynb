{
 "cells": [
  {
   "cell_type": "code",
   "execution_count": 25,
   "metadata": {
    "collapsed": false
   },
   "outputs": [
    {
     "name": "stdout",
     "output_type": "stream",
     "text": [
      "('average is ', 36878)\n",
      "('stan is ', 25.98076211353316)\n",
      "('ula is ', 11.61895003862225)\n",
      "('ulb is ', 0.5773502691896258)\n",
      "('ul is ', 11.633285577743433)\n",
      "per is 0.0315453266927%\n",
      "finall is 0.00438634243989\n",
      "6.737368\n"
     ]
    }
   ],
   "source": [
    "import math\n",
    "def average(arr):\n",
    "    _sum = 0\n",
    "    for i in arr:\n",
    "        _sum += i\n",
    "        # print(i)\n",
    "    # print(len(arr))\n",
    "    # print(_sum)\n",
    "    return _sum / len(arr)\n",
    "\n",
    "def stand(arr, ave):\n",
    "    _sum = 0\n",
    "    for i in arr:\n",
    "        _sum += (i - ave)**2\n",
    "    return math.sqrt(_sum / (len(arr) - 1))\n",
    "\n",
    "def ULA(_len, stan):\n",
    "    return stan / math.sqrt(_len - 1)\n",
    "\n",
    "arr = [36911, 36853, 36844, 36899, 36886, 36879]\n",
    "ave = average(arr)\n",
    "stan = stand(arr, ave)\n",
    "ula = ULA(len(arr), stan)\n",
    "ulb = 1 / math.sqrt(3)\n",
    "print(\"average is \", average(arr))\n",
    "print(\"stan is \", stan)\n",
    "print(\"ula is \", ula)\n",
    "print(\"ulb is \", ulb)\n",
    "ul = math.sqrt(ula**2 + ulb**2)\n",
    "print(\"ul is \", ul)\n",
    "per = ul / ave\n",
    "print(\"per is \" + str(per * 100) + \"%\")\n",
    "\n",
    "print(\"finall is \" + str(math.sqrt(0.0030**2 + 0.0032**2)))\n",
    "print(1531.22 * 0.0044)"
   ]
  }
 ],
 "metadata": {
  "kernelspec": {
   "display_name": "Python 3",
   "language": "python",
   "name": "python3"
  },
  "language_info": {
   "codemirror_mode": {
    "name": "ipython",
    "version": 2
   },
   "file_extension": ".py",
   "mimetype": "text/x-python",
   "name": "python",
   "nbconvert_exporter": "python",
   "pygments_lexer": "ipython2",
   "version": "2.7.13"
  }
 },
 "nbformat": 4,
 "nbformat_minor": 2
}
